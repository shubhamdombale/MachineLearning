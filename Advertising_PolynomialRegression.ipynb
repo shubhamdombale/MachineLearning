{
 "cells": [
  {
   "cell_type": "code",
   "execution_count": 1,
   "id": "f65a3210",
   "metadata": {},
   "outputs": [
    {
     "data": {
      "text/plain": [
       "\"This project involves analyzing an advertising dataset to predict sales based on TV and radio advertising budgets. The data is first loaded and cleaned by removing unnecessary columns and handling missing values. The dataset is then split into training and testing sets. StandardScaler is used to normalize the features. A Linear Regression model is created and evaluated, with metrics like coefficients, intercepts, training score, and testing score being computed. Overfitting or underfitting is assessed based on the difference between training and testing scores. Polynomial regression is also explored by transforming the features to polynomial degrees from 2 to 6 and evaluating the model's performance at each degree. The project aims to identify the best model to predict sales accurately based on the given advertising data.\""
      ]
     },
     "execution_count": 1,
     "metadata": {},
     "output_type": "execute_result"
    }
   ],
   "source": [
    "'''This project involves analyzing an advertising dataset to predict sales based on TV and radio advertising budgets. The data is first loaded and cleaned by removing unnecessary columns and handling missing values. The dataset is then split into training and testing sets. StandardScaler is used to normalize the features. A Linear Regression model is created and evaluated, with metrics like coefficients, intercepts, training score, and testing score being computed. Overfitting or underfitting is assessed based on the difference between training and testing scores. Polynomial regression is also explored by transforming the features to polynomial degrees from 2 to 6 and evaluating the model's performance at each degree. The project aims to identify the best model to predict sales accurately based on the given advertising data.'''"
   ]
  },
  {
   "cell_type": "code",
   "execution_count": 2,
   "id": "4e51df29",
   "metadata": {},
   "outputs": [],
   "source": [
    "import numpy as np\n",
    "import pandas as pd\n",
    "import matplotlib.pyplot as plt\n",
    "import seaborn as sns\n",
    "\n",
    "from sklearn.model_selection import train_test_split\n",
    "from sklearn.preprocessing import StandardScaler\n",
    "from sklearn.linear_model import LinearRegression \n",
    "from sklearn.metrics import mean_squared_error\n",
    "from sklearn.preprocessing import PolynomialFeatures\n",
    "\n",
    "import warnings\n",
    "warnings.filterwarnings('ignore')"
   ]
  },
  {
   "cell_type": "code",
   "execution_count": 3,
   "id": "5807029d",
   "metadata": {},
   "outputs": [],
   "source": [
    "df=pd.read_csv(\"advertising.csv\")"
   ]
  },
  {
   "cell_type": "code",
   "execution_count": 4,
   "id": "aa74918b",
   "metadata": {},
   "outputs": [
    {
     "data": {
      "text/html": [
       "<div>\n",
       "<style scoped>\n",
       "    .dataframe tbody tr th:only-of-type {\n",
       "        vertical-align: middle;\n",
       "    }\n",
       "\n",
       "    .dataframe tbody tr th {\n",
       "        vertical-align: top;\n",
       "    }\n",
       "\n",
       "    .dataframe thead th {\n",
       "        text-align: right;\n",
       "    }\n",
       "</style>\n",
       "<table border=\"1\" class=\"dataframe\">\n",
       "  <thead>\n",
       "    <tr style=\"text-align: right;\">\n",
       "      <th></th>\n",
       "      <th>Unnamed: 0</th>\n",
       "      <th>TV</th>\n",
       "      <th>radio</th>\n",
       "      <th>newspaper</th>\n",
       "      <th>sales</th>\n",
       "    </tr>\n",
       "  </thead>\n",
       "  <tbody>\n",
       "    <tr>\n",
       "      <th>0</th>\n",
       "      <td>1</td>\n",
       "      <td>230.1</td>\n",
       "      <td>37.8</td>\n",
       "      <td>69.2</td>\n",
       "      <td>22.1</td>\n",
       "    </tr>\n",
       "    <tr>\n",
       "      <th>1</th>\n",
       "      <td>2</td>\n",
       "      <td>44.5</td>\n",
       "      <td>39.3</td>\n",
       "      <td>45.1</td>\n",
       "      <td>10.4</td>\n",
       "    </tr>\n",
       "    <tr>\n",
       "      <th>2</th>\n",
       "      <td>3</td>\n",
       "      <td>17.2</td>\n",
       "      <td>45.9</td>\n",
       "      <td>69.3</td>\n",
       "      <td>9.3</td>\n",
       "    </tr>\n",
       "    <tr>\n",
       "      <th>3</th>\n",
       "      <td>4</td>\n",
       "      <td>151.5</td>\n",
       "      <td>41.3</td>\n",
       "      <td>58.5</td>\n",
       "      <td>18.5</td>\n",
       "    </tr>\n",
       "    <tr>\n",
       "      <th>4</th>\n",
       "      <td>5</td>\n",
       "      <td>180.8</td>\n",
       "      <td>10.8</td>\n",
       "      <td>58.4</td>\n",
       "      <td>12.9</td>\n",
       "    </tr>\n",
       "  </tbody>\n",
       "</table>\n",
       "</div>"
      ],
      "text/plain": [
       "   Unnamed: 0     TV  radio  newspaper  sales\n",
       "0           1  230.1   37.8       69.2   22.1\n",
       "1           2   44.5   39.3       45.1   10.4\n",
       "2           3   17.2   45.9       69.3    9.3\n",
       "3           4  151.5   41.3       58.5   18.5\n",
       "4           5  180.8   10.8       58.4   12.9"
      ]
     },
     "execution_count": 4,
     "metadata": {},
     "output_type": "execute_result"
    }
   ],
   "source": [
    "df.head()"
   ]
  },
  {
   "cell_type": "code",
   "execution_count": 5,
   "id": "482ffee6",
   "metadata": {},
   "outputs": [
    {
     "data": {
      "text/plain": [
       "(200, 5)"
      ]
     },
     "execution_count": 5,
     "metadata": {},
     "output_type": "execute_result"
    }
   ],
   "source": [
    "df.shape"
   ]
  },
  {
   "cell_type": "code",
   "execution_count": 6,
   "id": "1553d42c",
   "metadata": {},
   "outputs": [],
   "source": [
    "df.drop(\"Unnamed: 0\",axis=1,inplace=True)"
   ]
  },
  {
   "cell_type": "code",
   "execution_count": 7,
   "id": "b318fdb9",
   "metadata": {},
   "outputs": [
    {
     "data": {
      "text/plain": [
       "TV           0\n",
       "radio        0\n",
       "newspaper    0\n",
       "sales        0\n",
       "dtype: int64"
      ]
     },
     "execution_count": 7,
     "metadata": {},
     "output_type": "execute_result"
    }
   ],
   "source": [
    "df.isnull().sum()"
   ]
  },
  {
   "cell_type": "code",
   "execution_count": 8,
   "id": "fda4001b",
   "metadata": {},
   "outputs": [
    {
     "data": {
      "text/plain": [
       "TV           float64\n",
       "radio        float64\n",
       "newspaper    float64\n",
       "sales        float64\n",
       "dtype: object"
      ]
     },
     "execution_count": 8,
     "metadata": {},
     "output_type": "execute_result"
    }
   ],
   "source": [
    "df.dtypes"
   ]
  },
  {
   "cell_type": "code",
   "execution_count": 9,
   "id": "c9bdc3d1",
   "metadata": {},
   "outputs": [
    {
     "data": {
      "text/plain": [
       "0"
      ]
     },
     "execution_count": 9,
     "metadata": {},
     "output_type": "execute_result"
    }
   ],
   "source": [
    "df.duplicated().sum()"
   ]
  },
  {
   "cell_type": "code",
   "execution_count": 10,
   "id": "8a22ce7d",
   "metadata": {},
   "outputs": [],
   "source": [
    "X=df[[\"TV\",\"radio\"]] \n",
    "Y=df[\"sales\"]\n",
    "X_train,X_test,Y_train,Y_test=train_test_split(X,Y,test_size=0.3, random_state=1)"
   ]
  },
  {
   "cell_type": "code",
   "execution_count": 11,
   "id": "8e873ad3",
   "metadata": {},
   "outputs": [],
   "source": [
    "ss=StandardScaler()\n",
    "X_train=ss.fit_transform(X_train) \n",
    "X_test=ss.transform(X_test) "
   ]
  },
  {
   "cell_type": "code",
   "execution_count": 12,
   "id": "db379e1b",
   "metadata": {},
   "outputs": [],
   "source": [
    "def create_linearmodel(model):\n",
    "    lr.fit(X_train,Y_train)\n",
    "    Y_pred=lr.predict(X_test)\n",
    "    print('Co-eff: ',lr.coef_)\n",
    "    print('Intercept: ', lr.intercept_)"
   ]
  },
  {
   "cell_type": "code",
   "execution_count": 13,
   "id": "6189a63c",
   "metadata": {},
   "outputs": [],
   "source": [
    "def fitness(model):\n",
    "    Train_score=model.score(X_train, Y_train)\n",
    "    print('Train_score: ', Train_score)\n",
    "    Test_score=model.score(X_test, Y_test)\n",
    "    print('Test_score: ', Test_score)\n",
    "    Difference = (Train_score-Test_score).round(4)\n",
    "    print('Difference:', Difference)\n",
    "    if Train_score>Test_score:\n",
    "        if Difference>0.05:\n",
    "            print('Overfit')\n",
    "        else:\n",
    "            print('Fine')\n",
    "    else:\n",
    "            print ('Underfit')"
   ]
  },
  {
   "cell_type": "code",
   "execution_count": 14,
   "id": "d2229c9b",
   "metadata": {},
   "outputs": [
    {
     "name": "stdout",
     "output_type": "stream",
     "text": [
      "Co-eff:  [4.06756287 2.70136813]\n",
      "Intercept:  13.79142857142857\n",
      "Train_score:  0.8849581188519494\n",
      "Test_score:  0.9230321850256801\n",
      "Difference: -0.0381\n",
      "Underfit\n"
     ]
    }
   ],
   "source": [
    "lr = LinearRegression()\n",
    "create_linearmodel(lr)\n",
    "fitness(lr)"
   ]
  },
  {
   "cell_type": "code",
   "execution_count": 15,
   "id": "48d751f6",
   "metadata": {},
   "outputs": [
    {
     "name": "stdout",
     "output_type": "stream",
     "text": [
      "2\n",
      "Co-eff:  [ 0.          4.57360642  0.32267979 -3.00907384  3.69479751  0.18806517]\n",
      "Intercept:  13.791428571428574\n",
      "Train_score:  0.9830907214023425\n",
      "Test_score:  0.9930704848288282\n",
      "Difference: -0.01\n",
      "Underfit\n",
      "\n",
      "3\n",
      "Co-eff:  [  0.           7.93573147   0.34266552 -12.01680893   4.4228605\n",
      "  -0.12152205   5.95485265  -0.65814802  -0.17584246   0.32469645]\n",
      "Intercept:  13.791428571428577\n",
      "Train_score:  0.9896612551864068\n",
      "Test_score:  0.9941836818138715\n",
      "Difference: -0.0045\n",
      "Underfit\n",
      "\n",
      "4\n",
      "Co-eff:  [  0.          12.2136094   -0.93748866 -31.59786383   5.10471306\n",
      "   5.08427118  34.79759882  -0.87986617  -2.13185157  -6.13417063\n",
      " -13.75195341   0.72191463  -0.4644461    1.38037443   2.57346455]\n",
      "Intercept:  13.79142857142858\n",
      "Train_score:  0.9919751236711117\n",
      "Test_score:  0.9957039491505716\n",
      "Difference: -0.0037\n",
      "Underfit\n",
      "\n",
      "5\n",
      "Co-eff:  [  0.          13.94112601  -6.25682255 -55.29302753  23.35529503\n",
      "  26.3434794  105.9675238  -27.90591034 -40.24282092 -38.64902293\n",
      " -96.41855496  22.55235023  22.86629255  36.08395328  23.7968115\n",
      "  33.43222553  -7.84431663  -5.51373653  -7.85188181 -11.80171013\n",
      "  -4.73266344]\n",
      "Intercept:  13.79142857142857\n",
      "Train_score:  0.9935404329545234\n",
      "Test_score:  0.996253674875572\n",
      "Difference: -0.0027\n",
      "Underfit\n",
      "\n",
      "6\n",
      "Co-eff:  [ 5.53351001e+13  1.71759573e+01 -2.19686428e+00 -1.34879532e+02\n",
      "  3.78072866e+01  5.43711076e+00  3.86223741e+02 -6.46154510e+01\n",
      " -6.91431434e+01 -4.23909135e+01 -5.83915682e+02  1.49828584e+02\n",
      "  4.27787124e+01  1.45551994e+02  4.19041206e+01  4.83940561e+02\n",
      " -1.54543302e+02 -9.76145940e+01 -6.22590642e+01 -9.08854569e+01\n",
      "  1.99148031e+01 -1.74446248e+02  8.70893311e+01  5.58163323e+00\n",
      "  2.82005399e+01  6.87170544e+01 -1.61332517e+01 -2.28772640e+01]\n",
      "Intercept:  13.791428571428321\n",
      "Train_score:  0.7937567465367947\n",
      "Test_score:  0.7350726685930855\n",
      "Difference: 0.0587\n",
      "Overfit\n",
      "\n"
     ]
    }
   ],
   "source": [
    "for i in range(2,7):\n",
    "    print(i)\n",
    "    pf=PolynomialFeatures(i)\n",
    "    X_poly=pf.fit_transform(X)\n",
    "    X_train,X_test,Y_train,Y_test=train_test_split(X_poly,Y,test_size=0.3,random_state=1)   \n",
    "    X_train=ss.fit_transform(X_train)\n",
    "    X_test=ss.transform(X_test)\n",
    "    create_linearmodel(lr)\n",
    "    fitness(lr)\n",
    "    print('')"
   ]
  },
  {
   "cell_type": "code",
   "execution_count": 16,
   "id": "8c6019e1",
   "metadata": {},
   "outputs": [
    {
     "name": "stdout",
     "output_type": "stream",
     "text": [
      "Co-eff:  [ 0.          4.57360642  0.32267979 -3.00907384  3.69479751  0.18806517]\n",
      "Intercept:  13.791428571428574\n",
      "Train_score:  0.9830907214023425\n",
      "Test_score:  0.9930704848288282\n",
      "Difference: -0.01\n",
      "Underfit\n"
     ]
    }
   ],
   "source": [
    "pf=PolynomialFeatures(2)\n",
    "X_poly=pf.fit_transform(X)\n",
    "X_train,X_test,Y_train,Y_test=train_test_split(X_poly,Y,test_size=0.3,random_state=1)   \n",
    "X_train=ss.fit_transform(X_train)\n",
    "X_test=ss.transform(X_test)\n",
    "create_linearmodel(lr)\n",
    "fitness(lr)"
   ]
  },
  {
   "cell_type": "code",
   "execution_count": null,
   "id": "09286612",
   "metadata": {},
   "outputs": [],
   "source": []
  }
 ],
 "metadata": {
  "kernelspec": {
   "display_name": "Python 3 (ipykernel)",
   "language": "python",
   "name": "python3"
  },
  "language_info": {
   "codemirror_mode": {
    "name": "ipython",
    "version": 3
   },
   "file_extension": ".py",
   "mimetype": "text/x-python",
   "name": "python",
   "nbconvert_exporter": "python",
   "pygments_lexer": "ipython3",
   "version": "3.9.13"
  }
 },
 "nbformat": 4,
 "nbformat_minor": 5
}
